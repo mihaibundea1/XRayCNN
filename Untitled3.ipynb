{
  "nbformat": 4,
  "nbformat_minor": 0,
  "metadata": {
    "colab": {
      "provenance": [],
      "authorship_tag": "ABX9TyOS2CDzyITzwUeUiXmMU76P",
      "include_colab_link": true
    },
    "kernelspec": {
      "name": "python3",
      "display_name": "Python 3"
    },
    "language_info": {
      "name": "python"
    }
  },
  "cells": [
    {
      "cell_type": "markdown",
      "metadata": {
        "id": "view-in-github",
        "colab_type": "text"
      },
      "source": [
        "<a href=\"https://colab.research.google.com/github/mihaibundea1/XRayCNN/blob/main/Untitled3.ipynb\" target=\"_parent\"><img src=\"https://colab.research.google.com/assets/colab-badge.svg\" alt=\"Open In Colab\"/></a>"
      ]
    },
    {
      "cell_type": "code",
      "execution_count": null,
      "metadata": {
        "id": "9jqB3XWy7W-M"
      },
      "outputs": [],
      "source": [
        "! pip install -q kaggle\n",
        "from google.colab import files\n",
        "files.upload()\n",
        "! mkdir ~/.kaggle\n",
        "! cp kaggle.json ~/.kaggle/\n",
        "! chmod 600 ~/.kaggle/kaggle.json"
      ]
    },
    {
      "cell_type": "code",
      "source": [
        "! kaggle datasets download -d pcbreviglieri/pneumonia-xray-images"
      ],
      "metadata": {
        "colab": {
          "base_uri": "https://localhost:8080/"
        },
        "id": "X2nmbgYPFy42",
        "outputId": "7f150f75-5531-485e-87ff-e5837a264885"
      },
      "execution_count": 4,
      "outputs": [
        {
          "output_type": "stream",
          "name": "stdout",
          "text": [
            "Downloading pneumonia-xray-images.zip to /content\n",
            "100% 1.14G/1.14G [00:42<00:00, 28.8MB/s]\n",
            "100% 1.14G/1.14G [00:42<00:00, 29.2MB/s]\n"
          ]
        }
      ]
    },
    {
      "cell_type": "code",
      "source": [
        "import zipfile\n",
        "zf = \"/content/pneumonia-xray-images.zip\"\n",
        "target_dir = \"/content/dataset/cnn/pneumonia_revamped\"\n",
        "zfile = zipfile.ZipFile(zf)\n",
        "zfile.extractall(target_dir)"
      ],
      "metadata": {
        "id": "z1BXb-RwF9hh"
      },
      "execution_count": 5,
      "outputs": []
    },
    {
      "cell_type": "code",
      "source": [
        "#Some Basic Imports\n",
        "import matplotlib.pyplot as plt #For Visualization\n",
        "import numpy as np              #For handling arrays\n",
        "import pandas as pd             # For handling data\n",
        "#Define Directories for train, test & Validation Set\n",
        "train_path = '/content/dataset/cnn/pneumonia_revamped/train'\n",
        "test_path = '/content/dataset/cnn/pneumonia_revamped/test'\n",
        "valid_path = '/content/dataset/cnn/pneumonia_revamped/val'\n",
        "#Define some often used standard parameters\n",
        "#The batch refers to the number of training examples utilized in one #iteration\n",
        "batch_size = 16\n",
        "#The dimension of the images we are going to define is 500x500 img_height = 500\n",
        "img_width = 500\n",
        "img_height = 500"
      ],
      "metadata": {
        "id": "aTeLKEkWGQCc"
      },
      "execution_count": 7,
      "outputs": []
    },
    {
      "cell_type": "code",
      "source": [
        "from tensorflow.keras.preprocessing.image import ImageDataGenerator\n",
        "# Create Image Data Generator for Train Set\n",
        "image_gen = ImageDataGenerator(\n",
        "                                  rescale = 1./255,\n",
        "                                  shear_range = 0.2,\n",
        "                                  zoom_range = 0.2,\n",
        "                                  horizontal_flip = True,\n",
        "                               )\n",
        "# Create Image Data Generator for Test/Validation Set\n",
        "test_data_gen = ImageDataGenerator(rescale = 1./255)"
      ],
      "metadata": {
        "id": "v8AM3ISfGdkD"
      },
      "execution_count": 8,
      "outputs": []
    }
  ]
}